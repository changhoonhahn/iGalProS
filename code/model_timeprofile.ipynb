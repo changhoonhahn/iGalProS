{
 "cells": [
  {
   "cell_type": "markdown",
   "metadata": {},
   "source": [
    "# Time profiling the FSPS model\n",
    "Profile the time it takes to run the models to get a realistic idea about how long inference (MCMC or ABC) would take."
   ]
  },
  {
   "cell_type": "code",
   "execution_count": 1,
   "metadata": {
    "collapsed": false
   },
   "outputs": [
    {
     "name": "stderr",
     "output_type": "stream",
     "text": [
      "/usr/local/lib/python2.7/site-packages/IPython/kernel/__init__.py:13: ShimWarning: The `IPython.kernel` package has been deprecated. You should import from ipykernel or jupyter_client instead.\n",
      "  \"You should import from ipykernel or jupyter_client instead.\", ShimWarning)\n"
     ]
    }
   ],
   "source": [
    "import numpy as np\n",
    "import time\n",
    "\n",
    "import model as MDL"
   ]
  },
  {
   "cell_type": "code",
   "execution_count": 2,
   "metadata": {
    "collapsed": false
   },
   "outputs": [
    {
     "name": "stdout",
     "output_type": "stream",
     "text": [
      "31.3110938072  seconds to initiate FSPS CSP\n"
     ]
    }
   ],
   "source": [
    "t_start = time.time()\n",
    "model = MDL.FSPSgalaxy()\n",
    "print time.time() - t_start, ' seconds to initiate FSPS CSP'"
   ]
  },
  {
   "cell_type": "code",
   "execution_count": 4,
   "metadata": {
    "collapsed": false
   },
   "outputs": [
    {
     "name": "stdout",
     "output_type": "stream",
     "text": [
      "0.000330924987793  seconds to update parameters\n",
      "181.395716906  seconds to generate spectra\n",
      "0.00289297103882  seconds to generate photometry\n"
     ]
    }
   ],
   "source": [
    "params = {'sfh':1, 'tau':1., 'logzsol': np.log10(0.84), 'tage':3.97, 'mass':10**9.16, 'zred': 0.0309}\n",
    "\n",
    "t_start = time.time() \n",
    "model.updateParams(**params)\n",
    "print time.time() - t_start, ' seconds to update parameters'\n",
    "\n",
    "t_start = time.time() \n",
    "w, spec = model.getSpectrum(units='ABmag')\n",
    "print time.time() - t_start, ' seconds to generate spectra'\n",
    "\n",
    "t_start = time.time() \n",
    "photo = model.getPhotometry(units='ABmag', filters='sdss')\n",
    "print time.time() - t_start, ' seconds to generate photometry'"
   ]
  },
  {
   "cell_type": "code",
   "execution_count": 6,
   "metadata": {
    "collapsed": false
   },
   "outputs": [
    {
     "name": "stdout",
     "output_type": "stream",
     "text": [
      "0.000355958938599  seconds to update parameters\n",
      "0.0640408992767  seconds to generate spectra\n",
      "0.00156998634338  seconds to generate photometry\n"
     ]
    }
   ],
   "source": [
    "params = {'sfh':1, 'tau':1., 'logzsol': np.log10(0.84), 'tage':4.5, 'mass':10**9.16, 'zred': 0.0309}\n",
    "\n",
    "t_start = time.time() \n",
    "model.updateParams(**params)\n",
    "print time.time() - t_start, ' seconds to update parameters'\n",
    "\n",
    "t_start = time.time() \n",
    "w, spec = model.getSpectrum(units='ABmag')\n",
    "print time.time() - t_start, ' seconds to generate spectra'\n",
    "\n",
    "t_start = time.time() \n",
    "photo = model.getPhotometry(units='ABmag', filters='sdss')\n",
    "print time.time() - t_start, ' seconds to generate photometry'"
   ]
  },
  {
   "cell_type": "code",
   "execution_count": null,
   "metadata": {
    "collapsed": true
   },
   "outputs": [],
   "source": []
  }
 ],
 "metadata": {
  "kernelspec": {
   "display_name": "Python 2",
   "language": "python",
   "name": "python2"
  },
  "language_info": {
   "codemirror_mode": {
    "name": "ipython",
    "version": 2
   },
   "file_extension": ".py",
   "mimetype": "text/x-python",
   "name": "python",
   "nbconvert_exporter": "python",
   "pygments_lexer": "ipython2",
   "version": "2.7.9"
  }
 },
 "nbformat": 4,
 "nbformat_minor": 0
}
