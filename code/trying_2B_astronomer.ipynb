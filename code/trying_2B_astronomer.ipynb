{
 "cells": [
  {
   "cell_type": "markdown",
   "metadata": {},
   "source": [
    "# Figuring out the SDSS imaging pipeline \n",
    "to better understand observations and trying to be an astronomer..."
   ]
  },
  {
   "cell_type": "code",
   "execution_count": 1,
   "metadata": {
    "collapsed": true
   },
   "outputs": [],
   "source": [
    "import numpy as np\n",
    "import matplotlib.pyplot as plt\n",
    "% matplotlib inline \n",
    "\n",
    "from ChangTools.plotting import prettyplot\n",
    "from ChangTools.plotting import prettycolors\n",
    "from ChangTools.fitstables import mrdfits"
   ]
  },
  {
   "cell_type": "code",
   "execution_count": 2,
   "metadata": {
    "collapsed": true
   },
   "outputs": [],
   "source": [
    "from pydl.pydlutils.spheregroup import spherematch"
   ]
  },
  {
   "cell_type": "markdown",
   "metadata": {},
   "source": [
    "## iSEDfit catalog"
   ]
  },
  {
   "cell_type": "code",
   "execution_count": 3,
   "metadata": {
    "collapsed": true
   },
   "outputs": [],
   "source": [
    "isedfit = mrdfits('../local/iGalPros/NSA_iSEDfit/nsa_v1_2_fsps_v2.4_miles_chab_charlot_sfhgrid01.fits.gz')"
   ]
  },
  {
   "cell_type": "code",
   "execution_count": 7,
   "metadata": {
    "collapsed": false
   },
   "outputs": [
    {
     "name": "stdout",
     "output_type": "stream",
     "text": [
      "['age', 'age_50', 'age_avg', 'age_err', 'av', 'av_50', 'av_avg', 'av_err', 'b100', 'b1000', 'b1000_50', 'b1000_avg', 'b1000_err', 'b100_50', 'b100_avg', 'b100_err', 'bestmaggies', 'bursttype', 'chi2', 'chunkindx', 'dec', 'delayed', 'dtburst', 'ewniiha', 'ewniiha_50', 'ewniiha_avg', 'ewniiha_err', 'ewoii', 'ewoii_50', 'ewoii_avg', 'ewoii_err', 'ewoiiihb', 'ewoiiihb_50', 'ewoiiihb_avg', 'ewoiiihb_err', 'fburst', 'isedfit_id', 'ivarmaggies', 'maggies', 'modelindx', 'mstar', 'mstar_50', 'mstar_avg', 'mstar_err', 'mu', 'mu_50', 'mu_avg', 'mu_err', 'nburst', 'nlyc', 'oiiihb', 'oiiihb_50', 'oiiihb_avg', 'oiiihb_err', 'ra', 'sfr', 'sfr100', 'sfr100_50', 'sfr100_avg', 'sfr100_err', 'sfr_50', 'sfr_avg', 'sfr_err', 'sfrage', 'sfrage_50', 'sfrage_avg', 'sfrage_err', 'tau', 'tau_50', 'tau_avg', 'tau_err', 'tburst', 'totalmass', 'totalmass_err', 'trunctau', 'z', 'zmetal', 'zmetal_50', 'zmetal_avg', 'zmetal_err']\n"
     ]
    }
   ],
   "source": [
    "print sorted(isedfit.__dict__.keys())"
   ]
  },
  {
   "cell_type": "markdown",
   "metadata": {},
   "source": [
    "## SDSS VAGC imaging catalog"
   ]
  },
  {
   "cell_type": "code",
   "execution_count": 5,
   "metadata": {
    "collapsed": true
   },
   "outputs": [],
   "source": [
    "sdss = mrdfits('../local/iGalPros/catalogs/object_sdss_imaging.fits')"
   ]
  },
  {
   "cell_type": "code",
   "execution_count": 8,
   "metadata": {
    "collapsed": false
   },
   "outputs": [
    {
     "name": "stdout",
     "output_type": "stream",
     "text": [
      "['balkan_id', 'calib_status', 'calibobj_position', 'camcol', 'colc', 'dec', 'devflux', 'devflux_ivar', 'expflux', 'expflux_ivar', 'extinction', 'fiberflux', 'field', 'flags', 'flags2', 'fracpsf', 'id', 'ifield', 'modelflux', 'modelflux_ivar', 'nchild', 'nmgypercount', 'objc_colc', 'objc_flags', 'objc_flags2', 'objc_rowc', 'petroflux', 'petroflux_ivar', 'petror50', 'petror90', 'psfflux', 'psfflux_ivar', 'psp_skyflux', 'ra', 'rerun', 'resolve_status', 'run', 'score', 'sdss_imaging_tag', 'sdss_imaging_tag_primary', 'skyflux', 'vagc_select']\n"
     ]
    }
   ],
   "source": [
    "print sorted(sdss.__dict__.keys())"
   ]
  },
  {
   "cell_type": "markdown",
   "metadata": {},
   "source": [
    "## NSA catalog"
   ]
  },
  {
   "cell_type": "code",
   "execution_count": 36,
   "metadata": {
    "collapsed": false
   },
   "outputs": [
    {
     "name": "stdout",
     "output_type": "stream",
     "text": [
      "['absmag', 'ahdew', 'ahdewerr', 'ahgew', 'ahgewerr', 'aid', 'amivar', 'asymmetry', 'av', 'b1000', 'b300', 'ba50', 'ba90', 'bastokes', 'camcol', 'clumpy', 'coeff', 'd4000', 'd4000err', 'dec', 'deccat', 'dflags', 'dversion', 'extinction', 'fa', 'faerr', 'fiberflux', 'fiberflux_ivar', 'fiberid', 'field', 'haew', 'haewerr', 'haflux', 'hafluxerr', 'havmeas', 'havmerr', 'hbew', 'hbewerr', 'hbflux', 'hbfluxerr', 'hbvmeas', 'hbvmerr', 'ialfalfa', 'iauname', 'ined', 'isdss', 'isixdf', 'itwodf', 'izcat', 'kcoeff', 'kcorrect', 'mag', 'mass', 'mets', 'mjd', 'mtol', 'n2ew', 'n2ewerr', 'n2flux', 'n2fluxerr', 'n2vmeas', 'n2vmerr', 'ne3ew', 'ne3ewerr', 'ne5ew', 'ne5ewerr', 'nmgy', 'nmgy_ivar', 'nprof', 'nsaid', 'o1ew', 'o1ewerr', 'o1flux', 'o1fluxerr', 'o1vmeas', 'o1vmerr', 'o2ew', 'o2ewerr', 'o2flux', 'o2fluxerr', 'o2vmeas', 'o2vmerr', 'o3ew', 'o3ewerr', 'o3flux', 'o3fluxerr', 'o3vmeas', 'o3vmerr', 'objno', 'ok', 'petroflux', 'petroflux_ivar', 'petroth50', 'petroth90', 'petrotheta', 'phi50', 'phi90', 'phistokes', 'pid', 'plate', 'platequality', 'plug_dec', 'plug_ra', 'profmean', 'profmean_ivar', 'proftheta', 'programname', 'qstokes', 'ra', 'racat', 'rerun', 'rnmgy', 'run', 's2ew', 's2ewerr', 's2flux', 's2fluxerr', 's2nsamp', 's2ratio', 's2vmeas', 's2vmerr', 'sersic_ba', 'sersic_n', 'sersic_phi', 'sersic_th50', 'sersicflux', 'sersicflux_ivar', 'size', 'subdir', 'survey', 'tile', 'ustokes', 'vdisp', 'xcen', 'xpos', 'ycen', 'ypos', 'z', 'zdist', 'zdist_err', 'zlg', 'zsdssline', 'zsrc']\n"
     ]
    }
   ],
   "source": [
    "nsa = mrdfits('../local/iGalPros/catalogs/nsa_v0_1_2.fits')\n",
    "print sorted(nsa.__dict__.keys())"
   ]
  },
  {
   "cell_type": "markdown",
   "metadata": {},
   "source": [
    "## Question 1: \n",
    "How are the maggies from iSEDfit processed from VAGC? We care because iSEDfit maggies are what's used by iSEDfit to fit photometry. \n",
    "\n",
    "Here's how we're going to answer this question, \n",
    "- Randomly select iSEDfit galaxies\n",
    "- Cross-match them in VAGc\n",
    "- Put VAGC photometry into expected pipeline\n",
    "- Compare output from pipeline to iSEDfit maggies"
   ]
  },
  {
   "cell_type": "code",
   "execution_count": 10,
   "metadata": {
    "collapsed": true
   },
   "outputs": [],
   "source": [
    "# Random iSEDfit galaxies\n",
    "ised_ids = [53999, 18965, 81806]\n",
    "ised_gals = [{} for i in range(len(ised_ids))]\n",
    "\n",
    "for i, gal_dict in enumerate(ised_gals): \n",
    "    for key in isedfit.__dict__.keys(): \n",
    "        gal_dict[key] = getattr(isedfit, key)[ised_ids[i]]"
   ]
  },
  {
   "cell_type": "code",
   "execution_count": 17,
   "metadata": {
    "collapsed": false
   },
   "outputs": [],
   "source": [
    "# cross-match using spherematch onto SDSS VAGC galaxies\n",
    "match = spherematch(sdss.ra, sdss.dec, # SDSS VAGC\n",
    "                    np.array([gd['ra'] for gd in ised_gals]), np.array([gd['dec'] for gd in ised_gals]),  # random galaxies\n",
    "                    0.000833333) # 3 arcsec \n",
    "\n",
    "# ... and check that its reasonable\n",
    "for i_g in range(len(match[0])): \n",
    "    assert np.abs(sdss.ra[match[0][i_g]] - ised_gals[match[1][i_g]]['ra']) < 0.01\n",
    "    assert np.abs(sdss.dec[match[0][i_g]] - ised_gals[match[1][i_g]]['dec']) < 0.01"
   ]
  },
  {
   "cell_type": "code",
   "execution_count": 18,
   "metadata": {
    "collapsed": true
   },
   "outputs": [],
   "source": [
    "# store cross-matched SDSS VAGC imaging data onto ised dictionary\n",
    "for i, gal_dict in enumerate(ised_gals): \n",
    "    sdss_dict = {} \n",
    "    for key in sdss.__dict__.keys(): \n",
    "        sdss_dict[key] = getattr(sdss, key)[match[0][i]]\n",
    "    \n",
    "    gal_dict['sdss_dict'] = sdss_dict"
   ]
  },
  {
   "cell_type": "code",
   "execution_count": 37,
   "metadata": {
    "collapsed": true
   },
   "outputs": [],
   "source": [
    "# cross-match using spherematch onto NSA catalog\n",
    "match_nsa = spherematch(nsa.ra, nsa.dec, # NSA catalog\n",
    "                        np.array([gd['ra'] for gd in ised_gals]), np.array([gd['dec'] for gd in ised_gals]),  # random galaxies\n",
    "                        0.000833333) # 3 arcsec"
   ]
  },
  {
   "cell_type": "code",
   "execution_count": 42,
   "metadata": {
    "collapsed": false
   },
   "outputs": [],
   "source": [
    "# store cross-matched NSA data onto ised dictionary\n",
    "for i, gal_dict in enumerate(ised_gals): \n",
    "    nsa_dict = {} \n",
    "    for key in nsa.__dict__.keys(): \n",
    "        nsa_dict[key] = getattr(nsa, key)[match_nsa[0][i]]\n",
    "    \n",
    "    gal_dict['nsa_dict'] = nsa_dict"
   ]
  },
  {
   "cell_type": "code",
   "execution_count": 47,
   "metadata": {
    "collapsed": false
   },
   "outputs": [
    {
     "name": "stdout",
     "output_type": "stream",
     "text": [
      "maggies used in iSEDfit: \n",
      "[  1.56827031e-08   4.25017710e-08   1.11727744e-07   1.68669388e-07\n",
      "   2.10477381e-07]\n",
      "fluxes from SDSS imaging...\n",
      "       modelflux   [  106.70615387   382.8550415    688.79864502   996.2199707   1318.14501953]\n",
      "       psfflux   [   8.79745865   42.22624969   78.55684662  106.32844543  151.09541321]\n",
      "       skyflux   [  1.51814985   2.22928119   5.71908474  10.98425102  34.97859573]\n",
      "       petroflux   [  128.14901733   415.86151123   729.16906738  1045.01416016  1288.16699219]\n",
      "       psp_skyflux   [  1.47040987   2.20117331   5.60577393  10.92480755  34.13983536]\n",
      "       fiberflux   [  16.28027534   57.20471573  112.34742737  170.52928162  232.53569031]\n",
      "       expflux   [  108.80373383   400.63262939   688.79852295   978.04510498  1225.22070312]\n",
      "       devflux   [  142.21206665   553.57073975   928.30786133  1359.61962891  1854.40002441]\n",
      "fluxes from NSA...\n",
      "      nmgy  [   14.54327869   183.00810242  1106.93701172  2788.94702148  4411.60742188]\n",
      "       o2flux   203.94\n",
      "       n2flux   233.286\n",
      "       haflux   171.268\n",
      "       sersicflux   [  5.20165205e+00   1.32835312e+01   1.67214081e+02   1.07319141e+03\n",
      "   2.73027832e+03   4.42346338e+03   6.42339160e+03]\n",
      "       o1flux   54.602\n",
      "       fiberflux   [  1.73840329e-01   4.16515529e-01   2.13071404e+01   1.41947693e+02\n",
      "   3.74561523e+02   6.19528503e+02   9.05066895e+02]\n",
      "       petroflux   [    6.34302473    15.86639786   176.33511353   918.1293335   2041.94445801\n",
      "  3229.81030273  4357.08300781]\n",
      "       hbflux   26.3273\n",
      "       o3flux   144.125\n",
      "       s2flux   179.817\n"
     ]
    }
   ],
   "source": [
    "print 'maggies used in iSEDfit: '\n",
    "print ised_gals[0]['maggies'][1:-1]\n",
    "print 'fluxes from SDSS imaging...'\n",
    "for key in ised_gals[0]['sdss_dict'].keys(): \n",
    "    if 'flux' in key and 'ivar' not in key: \n",
    "        print '      ', key,' ', ised_gals[0]['sdss_dict'][key]\n",
    "print 'fluxes from NSA...'\n",
    "print '      nmgy ', ised_gals[0]['nsa_dict']['nmgy'][1:-1]\n",
    "for key in ised_gals[0]['nsa_dict'].keys(): \n",
    "    if 'flux' in key and 'ivar' not in key and 'err' not in key: \n",
    "        print '      ', key,' ', ised_gals[0]['nsa_dict'][key]"
   ]
  },
  {
   "cell_type": "code",
   "execution_count": 30,
   "metadata": {
    "collapsed": true
   },
   "outputs": [],
   "source": [
    "for i_gal in range(len(ised_gals)): \n",
    "    for key in ised_gals[i_gal]['sdss_dict'].keys(): \n",
    "        if 'flux' in key and 'ivar' not in key: \n",
    "            ised_gals[i_gal]['sdss_'+key] = ised_gals[i_gal]['sdss_dict'][key]        "
   ]
  },
  {
   "cell_type": "code",
   "execution_count": 31,
   "metadata": {
    "collapsed": false
   },
   "outputs": [
    {
     "name": "stdout",
     "output_type": "stream",
     "text": [
      "[ 1.23195052  1.16589022  1.11775267  1.08807564  1.06167531]\n",
      "[ 1.05829394  1.04256964  1.0306977   1.02319181  1.01638842]\n",
      "[ 1.08509862  1.06193495  1.04454792  1.03360069  1.02370858]\n"
     ]
    }
   ],
   "source": [
    "# step 1 of pipeline: account for extinction!\n",
    "# extinction factor\n",
    "for i_gal in range(len(ised_gals)): \n",
    "    ised_gals[i_gal]['f_extinct'] = 10**(0.4 * ised_gals[i_gal]['sdss_dict']['extinction'])\n",
    "    print ised_gals[i_gal]['f_extinct']"
   ]
  },
  {
   "cell_type": "code",
   "execution_count": 32,
   "metadata": {
    "collapsed": true
   },
   "outputs": [],
   "source": [
    "for i_gal in range(len(ised_gals)): \n",
    "    for key in ised_gals[i_gal]['sdss_dict'].keys(): \n",
    "        if 'flux' in key and 'ivar' not in key: \n",
    "            ised_gals[i_gal]['sdss_'+key+'_ext'] = ised_gals[i_gal]['sdss_'+key] * ised_gals[i_gal]['f_extinct']"
   ]
  },
  {
   "cell_type": "code",
   "execution_count": 35,
   "metadata": {
    "collapsed": false
   },
   "outputs": [
    {
     "name": "stdout",
     "output_type": "stream",
     "text": [
      "maggies used in iSEDfit (in nMgy): \n",
      "[  11.87881374   15.68270302   42.50177002  111.72774506  168.66938782\n",
      "  210.47738647  258.04071045]\n",
      "fluxes from SDSS imaging..., extincted\n",
      "[  131.45669556   446.36694336   769.90655518  1083.96264648  1399.4420166 ]\n",
      "[  10.83803368   49.23117065   87.80712891  115.69338989  160.41427612]\n",
      "[  1.87028551   2.59909701   6.39252234  11.9516964   37.13591003]\n",
      "[  157.87324524   484.84887695   815.03070068  1137.05444336  1367.6151123 ]\n",
      "[  1.81147218   2.56632638   6.26586866  11.88701725  36.24541855]\n",
      "[  20.05649376   66.69441986  125.57663727  185.54875183  246.87739563]\n",
      "[  134.04081726   467.09365845   769.90637207  1064.18701172  1300.78662109]\n",
      "[  175.19822693   645.40270996  1037.61865234  1479.36901855  1968.77075195]\n",
      "maggies used in iSEDfit (in nMgy): \n",
      "[  5.70189524e+00   1.45432787e+01   1.83008102e+02   1.10693701e+03\n",
      "   2.78894702e+03   4.41160742e+03   6.29330713e+03]\n",
      "fluxes from SDSS imaging..., extincted\n",
      "[  125.87782288   790.07434082  1898.25646973  2995.72509766  4316.61572266]\n",
      "[  22.11599541  144.7612915   335.0944519   483.20223999  730.56768799]\n",
      "[  1.30600178   1.42625928   3.79200506   8.3449192   27.76112556]\n",
      "[  147.69549561   863.26074219  1966.30407715  3016.17358398  4018.96337891]\n",
      "[  1.32065701   1.37551343   3.76302552   8.31470585  26.9004631 ]\n",
      "[  21.13849449  136.1030426   350.39709473  561.472229    823.63555908]\n",
      "[  109.21663666   614.04547119  1363.32592773  2103.6484375   2806.6652832 ]\n",
      "[  194.89402771   893.54644775  1898.2565918   2914.92431641  4147.36523438]\n",
      "maggies used in iSEDfit (in nMgy): \n",
      "[   30.88567924    61.66298676   157.39605713   456.12359619   804.77935791\n",
      "  1139.21960449  1457.57641602]\n",
      "fluxes from SDSS imaging..., extincted\n",
      "[  42.76198959  131.42988586  194.3445282   243.5032196   290.15795898]\n",
      "[  8.13419914  24.40018654  31.73023033  37.03975677  46.29767609]\n",
      "[  1.55860329   1.8868928    4.61058426   7.31058693  22.73359108]\n",
      "[  37.20085907   97.83516693  147.24456787  184.07301331  209.23059082]\n",
      "[  3.15079331   2.60686111   5.61385965   8.61474323  27.73984146]\n",
      "[  8.54045296  26.21146202  38.67087936  49.1198616   57.97691727]\n",
      "[  28.92391014   89.13584137  131.33728027  161.84098816  190.25520325]\n",
      "[  49.65835571  126.617836    194.3445282   242.14120483  300.97946167]\n"
     ]
    }
   ],
   "source": [
    "for i_gal in range(len(ised_gals)): \n",
    "    print 'maggies used in iSEDfit (in nMgy): '\n",
    "    print ised_gals[i_gal]['maggies'] * 1e9\n",
    "    print 'fluxes from SDSS imaging..., extincted'\n",
    "    for key in ised_gals[i_gal]['sdss_dict'].keys(): \n",
    "        if 'flux' in key and 'ivar' not in key: \n",
    "            print ised_gals[i_gal]['sdss_'+key+'_ext']"
   ]
  },
  {
   "cell_type": "code",
   "execution_count": null,
   "metadata": {
    "collapsed": true
   },
   "outputs": [],
   "source": []
  }
 ],
 "metadata": {
  "kernelspec": {
   "display_name": "Python 2",
   "language": "python",
   "name": "python2"
  },
  "language_info": {
   "codemirror_mode": {
    "name": "ipython",
    "version": 2
   },
   "file_extension": ".py",
   "mimetype": "text/x-python",
   "name": "python",
   "nbconvert_exporter": "python",
   "pygments_lexer": "ipython2",
   "version": "2.7.9"
  }
 },
 "nbformat": 4,
 "nbformat_minor": 0
}
